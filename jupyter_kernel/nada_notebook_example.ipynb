{
 "cells": [
  {
   "cell_type": "markdown",
   "id": "f3c9df14",
   "metadata": {},
   "source": [
    "# NadaLisp Jupyter Notebook\n",
    "\n",
    "This notebook demonstrates the use of NadaLisp (a Scheme implementation) in Jupyter. The NadaLisp kernel allows you to interact with the NadaLisp interpreter directly from a Jupyter notebook.\n",
    "\n",
    "## Basic Examples"
   ]
  },
  {
   "cell_type": "code",
   "execution_count": null,
   "id": "445d7856",
   "metadata": {
    "vscode": {
     "languageId": "scheme"
    }
   },
   "outputs": [],
   "source": [
    ";; Simple arithmetic expression\n",
    "(+ 2 3)"
   ]
  },
  {
   "cell_type": "markdown",
   "id": "3acb6424",
   "metadata": {},
   "source": [
    "## Variables"
   ]
  },
  {
   "cell_type": "code",
   "execution_count": null,
   "id": "ba7d8452",
   "metadata": {
    "vscode": {
     "languageId": "scheme"
    }
   },
   "outputs": [],
   "source": [
    ";; Define a variable\n",
    "(define x 42)\n",
    "\n",
    ";; Use the variable\n",
    "x"
   ]
  },
  {
   "cell_type": "markdown",
   "id": "63fcb7b0",
   "metadata": {},
   "source": [
    "## Functions"
   ]
  },
  {
   "cell_type": "code",
   "execution_count": null,
   "id": "18558741",
   "metadata": {
    "vscode": {
     "languageId": "scheme"
    }
   },
   "outputs": [],
   "source": [
    ";; Define a function to calculate the square of a number\n",
    "(define (square n)\n",
    "  (* n n))\n",
    "\n",
    ";; Call the function\n",
    "(square 5)"
   ]
  },
  {
   "cell_type": "markdown",
   "id": "cd0eb86f",
   "metadata": {},
   "source": [
    "## Lists"
   ]
  },
  {
   "cell_type": "code",
   "execution_count": null,
   "id": "7323e5ac",
   "metadata": {
    "vscode": {
     "languageId": "scheme"
    }
   },
   "outputs": [],
   "source": [
    ";; Create a list\n",
    "(define my-list '(1 2 3 4 5))\n",
    "\n",
    ";; Get the first element\n",
    "(car my-list)\n",
    "\n",
    ";; Get everything except the first element\n",
    "(cdr my-list)\n",
    "\n",
    ";; Map a function over a list\n",
    "(map square my-list)"
   ]
  },
  {
   "cell_type": "markdown",
   "id": "ec40e40c",
   "metadata": {},
   "source": [
    "## Control Flow"
   ]
  },
  {
   "cell_type": "code",
   "execution_count": null,
   "id": "94bd7a70",
   "metadata": {
    "vscode": {
     "languageId": "scheme"
    }
   },
   "outputs": [],
   "source": [
    ";; Conditional expression\n",
    "(if (> 5 3)\n",
    "    \"5 is greater than 3\"\n",
    "    \"5 is not greater than 3\")\n",
    "\n",
    ";; Define a recursive function to calculate factorial\n",
    "(define (factorial n)\n",
    "  (if (<= n 1)\n",
    "      1\n",
    "      (* n (factorial (- n 1)))))\n",
    "\n",
    ";; Calculate factorial of 5\n",
    "(factorial 5)"
   ]
  }
 ],
 "metadata": {
  "language_info": {
   "name": "python"
  }
 },
 "nbformat": 4,
 "nbformat_minor": 5
}
