{
  "cells": [
    {
      "cell_type": "markdown",
      "metadata": {},
      "source": [
        "# NadaLisp Jupyter Notebook\n",
        "\n",
        "This notebook demonstrates using NadaLisp (a Scheme implementation) in Jupyter. With the enhanced kernel, you can now evaluate multiple expressions in a single cell.\n",
        "\n",
        "## Basic Expressions"
      ]
    },
    {
      "cell_type": "code",
      "execution_count": null,
      "metadata": {
        "trusted": true
      },
      "outputs": [],
      "source": [
        ";; Simple arithmetic\n",
        "(display (+ 2 3 4))  ; Addition\n",
        "(display (- 10 5))   ; Subtraction\n",
        "(display (* 3 4))    ; Multiplication\n",
        "(/ 10 2)             ; Division"
      ]
    },
    {
      "cell_type": "markdown",
      "metadata": {},
      "source": [
        "## Variables and Expressions"
      ]
    },
    {
      "cell_type": "code",
      "execution_count": null,
      "metadata": {
        "trusted": true
      },
      "outputs": [],
      "source": [
        ";; Define variables and use them in the same cell\n",
        "(define x 10)\n",
        "(define y 20)\n",
        "\n",
        ";; Compute using the variables\n",
        "(+ x y)"
      ]
    },
    {
      "cell_type": "code",
      "execution_count": null,
      "metadata": {
        "trusted": true
      },
      "outputs": [],
      "source": [
        ";; More complex expressions\n",
        "(define radius 5)\n",
        "(define pi 3.14159)\n",
        "\n",
        ";; Calculate area of a circle\n",
        "(* pi (* radius radius))"
      ]
    },
    {
      "cell_type": "markdown",
      "metadata": {},
      "source": [
        "## Function Definitions"
      ]
    },
    {
      "cell_type": "code",
      "execution_count": null,
      "metadata": {
        "trusted": true
      },
      "outputs": [],
      "source": [
        ";; Define a simple function\n",
        "(define (square x)\n",
        "  (* x x))\n",
        "\n",
        ";; Define another function that uses our first function\n",
        "(define (sum-of-squares x y)\n",
        "  (+ (square x) (square y)))\n",
        "\n",
        ";; Use our function immediately\n",
        "(sum-of-squares 3 4)"
      ]
    },
    {
      "cell_type": "markdown",
      "metadata": {},
      "source": [
        "## Lists and Data Structures"
      ]
    },
    {
      "cell_type": "code",
      "execution_count": null,
      "metadata": {
        "trusted": true
      },
      "outputs": [],
      "source": [
        ";; Create a list\n",
        "(define numbers '(1 2 3 4 5))\n",
        "\n",
        ";; Basic list operations\n",
        "(car numbers)  ; First element\n",
        "(cdr numbers)  ; Rest of the list"
      ]
    },
    {
      "cell_type": "code",
      "execution_count": null,
      "metadata": {
        "trusted": true
      },
      "outputs": [],
      "source": [
        ";; List manipulation\n",
        "(define fruits '(apple banana cherry))\n",
        "\n",
        ";; Construct a new list\n",
        "(cons 'orange fruits)\n",
        "\n",
        ";; List length\n",
        "(length fruits)"
      ]
    },
    {
      "cell_type": "markdown",
      "metadata": {},
      "source": [
        "## Higher-order Functions"
      ]
    },
    {
      "cell_type": "code",
      "execution_count": null,
      "metadata": {
        "trusted": true
      },
      "outputs": [],
      "source": [
        ";; Define a list of numbers\n",
        "(define nums '(1 2 3 4 5))\n",
        "\n",
        ";; Map: apply a function to each element\n",
        "(map square nums)"
      ]
    },
    {
      "cell_type": "code",
      "execution_count": null,
      "metadata": {
        "trusted": true
      },
      "outputs": [],
      "source": [
        ";; Filter: keep elements that satisfy a predicate\n",
        "(define (even? x)\n",
        "  (= (modulo x 2) 0))\n",
        "\n",
        ";; Get only even numbers\n",
        "(filter even? '(1 2 3 4 5 6 7 8))"
      ]
    },
    {
      "cell_type": "code",
      "execution_count": null,
      "metadata": {
        "trusted": true
      },
      "outputs": [],
      "source": [
        ";; Reduce: combine elements using a function\n",
        "(define (sum-list lst)\n",
        "  (reduce + 0 lst))\n",
        "\n",
        "(sum-list '(1 2 3 4 5))"
      ]
    },
    {
      "cell_type": "markdown",
      "metadata": {},
      "source": [
        "## Control Flow"
      ]
    },
    {
      "cell_type": "code",
      "execution_count": null,
      "metadata": {
        "trusted": true
      },
      "outputs": [],
      "source": [
        ";; If expression\n",
        "(define temperature 75)\n",
        "\n",
        "(if (> temperature 70)\n",
        "    \"It's warm\"\n",
        "    \"It's cool\")"
      ]
    },
    {
      "cell_type": "code",
      "execution_count": null,
      "metadata": {
        "trusted": true
      },
      "outputs": [],
      "source": [
        ";; Conditional expressions\n",
        "(define score 85)\n",
        "\n",
        "(cond\n",
        "  ((>= score 90) \"A\")\n",
        "  ((>= score 80) \"B\")\n",
        "  ((>= score 70) \"C\")\n",
        "  ((>= score 60) \"D\")\n",
        "  (else \"F\"))"
      ]
    },
    {
      "cell_type": "markdown",
      "metadata": {},
      "source": [
        "## Recursion"
      ]
    },
    {
      "cell_type": "code",
      "execution_count": null,
      "metadata": {
        "trusted": true
      },
      "outputs": [],
      "source": [
        ";; Classic factorial function\n",
        "(define (factorial n)\n",
        "  (if (<= n 1)\n",
        "      1\n",
        "      (* n (factorial (- n 1)))))\n",
        "\n",
        ";; Calculate factorial of 5\n",
        "(factorial 5)"
      ]
    },
    {
      "cell_type": "code",
      "execution_count": null,
      "metadata": {
        "trusted": true
      },
      "outputs": [],
      "source": [
        ";; Fibonacci sequence\n",
        "(define (fibonacci n)\n",
        "  (cond\n",
        "    ((= n 0) 0)\n",
        "    ((= n 1) 1)\n",
        "    (else (+ (fibonacci (- n 1))\n",
        "             (fibonacci (- n 2))))))\n",
        "\n",
        ";; Calculate first 8 Fibonacci numbers\n",
        "(map fibonacci '(0 1 2 3 4 5 6 7))"
      ]
    },
    {
      "cell_type": "markdown",
      "metadata": {},
      "source": [
        "## Practical Example: Quicksort"
      ]
    },
    {
      "cell_type": "code",
      "execution_count": null,
      "metadata": {
        "trusted": true
      },
      "outputs": [],
      "source": [
        ";; Quicksort implementation\n",
        "(define (quicksort lst)\n",
        "  (if (or (null? lst) (null? (cdr lst)))\n",
        "      lst\n",
        "      (let ((pivot (car lst))\n",
        "            (rest (cdr lst)))\n",
        "        (append\n",
        "          (quicksort (filter (lambda (x) (< x pivot)) rest))\n",
        "          (list pivot)\n",
        "          (quicksort (filter (lambda (x) (>= x pivot)) rest))))))\n",
        "\n",
        ";; Sort a list of numbers\n",
        "(quicksort '(3 1 4 1 5 9 2 6 5))"
      ]
    },
    {
      "cell_type": "markdown",
      "metadata": {},
      "source": [
        "## String Manipulation"
      ]
    },
    {
      "cell_type": "code",
      "execution_count": null,
      "metadata": {
        "trusted": true
      },
      "outputs": [],
      "source": [
        ";; String operations\n",
        "(define greeting \"Hello, \")\n",
        "(define name \"NadaLisp\")\n",
        "\n",
        ";; String concatenation\n",
        "(string-append greeting name \"!\")"
      ]
    },
    {
      "cell_type": "markdown",
      "metadata": {},
      "source": [
        "## Conclusion\n",
        "\n",
        "This notebook demonstrated various features of NadaLisp, including:\n",
        "- Basic arithmetic and expressions\n",
        "- Variables and definitions\n",
        "- Functions including higher-order functions\n",
        "- Lists and data structures\n",
        "- Control flow\n",
        "- Recursion\n",
        "- String manipulation\n",
        "- A practical algorithm implementation\n",
        "\n",
        "The ability to execute multiple expressions in a single cell makes NadaLisp in Jupyter much more powerful and convenient."
      ]
    }
  ],
  "metadata": {
    "kernelspec": {
      "display_name": "NadaLisp",
      "language": "scheme",
      "name": "nada"
    },
    "language_info": {
      "file_extension": ".scm",
      "mimetype": "text/x-scheme",
      "name": "scheme"
    }
  },
  "nbformat": 4,
  "nbformat_minor": 4
}
