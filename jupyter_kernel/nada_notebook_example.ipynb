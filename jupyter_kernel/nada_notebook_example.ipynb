{
 "cells": [
  {
   "cell_type": "markdown",
   "id": "f3c9df14",
   "metadata": {},
   "source": [
    "# NadaLisp Jupyter Notebook\n",
    "\n",
    "This notebook demonstrates the use of NadaLisp (a Scheme implementation) in Jupyter. The NadaLisp kernel allows you to interact with the NadaLisp interpreter directly from a Jupyter notebook.\n",
    "\n",
    "## Basic Examples"
   ]
  },
  {
   "cell_type": "code",
   "execution_count": null,
   "id": "445d7856",
   "metadata": {
    "vscode": {
     "languageId": "scheme"
    }
   },
   "outputs": [],
   "source": [
    ";; Simple arithmetic expression\n",
    "(+ 2 3)"
   ]
  },
  {
   "cell_type": "markdown",
   "id": "3acb6424",
   "metadata": {},
   "source": [
    "## Variables"
   ]
  },
  {
   "cell_type": "code",
   "execution_count": null,
   "id": "ba7d8452",
   "metadata": {
    "vscode": {
     "languageId": "scheme"
    }
   },
   "outputs": [],
   "source": [
    "(define x 42)"
   ]
  },
  {
   "cell_type": "code",
   "execution_count": null,
   "id": "fbcf1f6c",
   "metadata": {
    "vscode": {
     "languageId": "scheme"
    }
   },
   "outputs": [],
   "source": [
    "x"
   ]
  },
  {
   "cell_type": "markdown",
   "id": "63fcb7b0",
   "metadata": {},
   "source": [
    "## Functions"
   ]
  },
  {
   "cell_type": "code",
   "execution_count": null,
   "id": "18558741",
   "metadata": {
    "vscode": {
     "languageId": "scheme"
    }
   },
   "outputs": [],
   "source": [
    "(define (square n)\n",
    "  (* n n))"
   ]
  },
  {
   "cell_type": "code",
   "execution_count": null,
   "id": "32bae107",
   "metadata": {
    "vscode": {
     "languageId": "scheme"
    }
   },
   "outputs": [],
   "source": [
    "\n",
    "(square 5)"
   ]
  },
  {
   "cell_type": "markdown",
   "id": "cd0eb86f",
   "metadata": {},
   "source": [
    "## Lists"
   ]
  },
  {
   "cell_type": "code",
   "execution_count": null,
   "id": "7323e5ac",
   "metadata": {
    "vscode": {
     "languageId": "scheme"
    }
   },
   "outputs": [],
   "source": [
    "(define my-list '(1 2 3 4 5))"
   ]
  },
  {
   "cell_type": "code",
   "execution_count": null,
   "id": "dfc72693",
   "metadata": {
    "vscode": {
     "languageId": "scheme"
    }
   },
   "outputs": [],
   "source": [
    "(car my-list)"
   ]
  },
  {
   "cell_type": "code",
   "execution_count": null,
   "id": "56a8f248",
   "metadata": {
    "vscode": {
     "languageId": "scheme"
    }
   },
   "outputs": [],
   "source": [
    "(cdr my-list)"
   ]
  },
  {
   "cell_type": "code",
   "execution_count": null,
   "id": "98759fca",
   "metadata": {
    "vscode": {
     "languageId": "scheme"
    }
   },
   "outputs": [],
   "source": [
    "(map square my-list)"
   ]
  },
  {
   "cell_type": "markdown",
   "id": "ec40e40c",
   "metadata": {},
   "source": [
    "## Control Flow"
   ]
  },
  {
   "cell_type": "code",
   "execution_count": null,
   "id": "94bd7a70",
   "metadata": {
    "vscode": {
     "languageId": "scheme"
    }
   },
   "outputs": [],
   "source": [
    "(if (> 5 3)\n",
    "    \"5 is greater than 3\"\n",
    "    \"5 is not greater than 3\")"
   ]
  },
  {
   "cell_type": "code",
   "execution_count": null,
   "id": "a0351ce5",
   "metadata": {
    "vscode": {
     "languageId": "scheme"
    }
   },
   "outputs": [],
   "source": [
    "(define (factorial n)\n",
    "  (if (<= n 1)\n",
    "      1\n",
    "      (* n (factorial (- n 1)))))"
   ]
  },
  {
   "cell_type": "code",
   "execution_count": null,
   "id": "217f1d26",
   "metadata": {
    "vscode": {
     "languageId": "scheme"
    }
   },
   "outputs": [],
   "source": [
    "(factorial 5)"
   ]
  }
 ],
 "metadata": {
  "language_info": {
   "name": "python"
  }
 },
 "nbformat": 4,
 "nbformat_minor": 5
}
