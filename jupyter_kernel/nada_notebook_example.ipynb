{
 "cells": [
  {
   "cell_type": "markdown",
   "id": "f3c9df14",
   "metadata": {},
   "source": [
    "# NadaLisp Jupyter Notebook\n",
    "\n",
    "This notebook demonstrates the use of NadaLisp (a Scheme implementation) in Jupyter. The NadaLisp kernel allows you to interact with the NadaLisp interpreter directly from a Jupyter notebook.\n",
    "\n",
    "## Basic Examples"
   ]
  },
  {
   "cell_type": "code",
   "execution_count": 1,
   "id": "445d7856",
   "metadata": {
    "vscode": {
     "languageId": "scheme"
    }
   },
   "outputs": [
    {
     "name": "stdout",
     "output_type": "stream",
     "text": [
      "5"
     ]
    }
   ],
   "source": [
    ";; Simple arithmetic expression\n",
    "(+ 2 3)"
   ]
  },
  {
   "cell_type": "markdown",
   "id": "3acb6424",
   "metadata": {},
   "source": [
    "## Variables"
   ]
  },
  {
   "cell_type": "code",
   "execution_count": null,
   "id": "ba7d8452",
   "metadata": {
    "vscode": {
     "languageId": "scheme"
    }
   },
   "outputs": [],
   "source": [
    "(define x 42)"
   ]
  },
  {
   "cell_type": "code",
   "execution_count": null,
   "id": "fbcf1f6c",
   "metadata": {
    "vscode": {
     "languageId": "scheme"
    }
   },
   "outputs": [],
   "source": [
    "x"
   ]
  },
  {
   "cell_type": "markdown",
   "id": "63fcb7b0",
   "metadata": {},
   "source": [
    "## Functions"
   ]
  },
  {
   "cell_type": "code",
   "execution_count": 10,
   "id": "18558741",
   "metadata": {
    "vscode": {
     "languageId": "scheme"
    }
   },
   "outputs": [
    {
     "name": "stdout",
     "output_type": "stream",
     "text": [
      "square"
     ]
    }
   ],
   "source": [
    "(define (square n)\n",
    "  (* n n))"
   ]
  },
  {
   "cell_type": "code",
   "execution_count": 11,
   "id": "32bae107",
   "metadata": {
    "vscode": {
     "languageId": "scheme"
    }
   },
   "outputs": [
    {
     "name": "stdout",
     "output_type": "stream",
     "text": [
      "25"
     ]
    }
   ],
   "source": [
    "\n",
    "(square 5)"
   ]
  },
  {
   "cell_type": "markdown",
   "id": "cd0eb86f",
   "metadata": {},
   "source": [
    "## Lists"
   ]
  },
  {
   "cell_type": "code",
   "execution_count": 12,
   "id": "7323e5ac",
   "metadata": {
    "vscode": {
     "languageId": "scheme"
    }
   },
   "outputs": [
    {
     "name": "stdout",
     "output_type": "stream",
     "text": [
      "my-list"
     ]
    }
   ],
   "source": [
    "(define my-list '(1 2 3 4 5))"
   ]
  },
  {
   "cell_type": "code",
   "execution_count": 13,
   "id": "dfc72693",
   "metadata": {
    "vscode": {
     "languageId": "scheme"
    }
   },
   "outputs": [
    {
     "name": "stdout",
     "output_type": "stream",
     "text": [
      "1"
     ]
    }
   ],
   "source": [
    "(car my-list)"
   ]
  },
  {
   "cell_type": "code",
   "execution_count": 14,
   "id": "56a8f248",
   "metadata": {
    "vscode": {
     "languageId": "scheme"
    }
   },
   "outputs": [
    {
     "name": "stdout",
     "output_type": "stream",
     "text": [
      "(2 3 4 5)"
     ]
    }
   ],
   "source": [
    "(cdr my-list)"
   ]
  },
  {
   "cell_type": "code",
   "execution_count": 15,
   "id": "98759fca",
   "metadata": {
    "vscode": {
     "languageId": "scheme"
    }
   },
   "outputs": [
    {
     "name": "stdout",
     "output_type": "stream",
     "text": [
      "(1 4 9 16 25)"
     ]
    }
   ],
   "source": [
    "(map square my-list)"
   ]
  },
  {
   "cell_type": "markdown",
   "id": "ec40e40c",
   "metadata": {},
   "source": [
    "## Control Flow"
   ]
  },
  {
   "cell_type": "code",
   "execution_count": 16,
   "id": "94bd7a70",
   "metadata": {
    "vscode": {
     "languageId": "scheme"
    }
   },
   "outputs": [
    {
     "name": "stdout",
     "output_type": "stream",
     "text": [
      "\"5 is greater than 3\""
     ]
    }
   ],
   "source": [
    "(if (> 5 3)\n",
    "    \"5 is greater than 3\"\n",
    "    \"5 is not greater than 3\")"
   ]
  },
  {
   "cell_type": "code",
   "execution_count": 17,
   "id": "a0351ce5",
   "metadata": {
    "vscode": {
     "languageId": "scheme"
    }
   },
   "outputs": [
    {
     "name": "stdout",
     "output_type": "stream",
     "text": [
      "factorial"
     ]
    }
   ],
   "source": [
    "(define (factorial n)\n",
    "  (if (<= n 1)\n",
    "      1\n",
    "      (* n (factorial (- n 1)))))"
   ]
  },
  {
   "cell_type": "code",
   "execution_count": 5,
   "id": "217f1d26",
   "metadata": {
    "vscode": {
     "languageId": "scheme"
    }
   },
   "outputs": [
    {
     "name": "stdout",
     "output_type": "stream",
     "text": [
      "265252859812191058636308480000000"
     ]
    }
   ],
   "source": [
    "(factorial 30)"
   ]
  },
  {
   "cell_type": "code",
   "execution_count": null,
   "id": "ec78d9ca",
   "metadata": {
    "vscode": {
     "languageId": "scheme"
    }
   },
   "outputs": [],
   "source": []
  }
 ],
 "metadata": {
  "kernelspec": {
   "display_name": "NadaLisp",
   "language": "scheme",
   "name": "nada"
  },
  "language_info": {
   "file_extension": ".scm",
   "mimetype": "text/x-scheme",
   "name": "nada",
   "pygments_lexer": "scheme"
  }
 },
 "nbformat": 4,
 "nbformat_minor": 5
}
